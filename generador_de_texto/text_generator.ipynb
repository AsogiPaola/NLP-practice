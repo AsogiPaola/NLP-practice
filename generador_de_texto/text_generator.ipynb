{
 "cells": [
  {
   "cell_type": "code",
   "execution_count": 29,
   "id": "b8cccca7",
   "metadata": {},
   "outputs": [],
   "source": [
    "import numpy as np\n",
    "import string"
   ]
  },
  {
   "cell_type": "markdown",
   "id": "047d1b5e",
   "metadata": {},
   "source": [
    "diccionario para guardar las palabras iniciales asignando tambien la concurrencia de la palabra y las palabras de primer orden y segundo orden, ejemplo:\n",
    "\n",
    "frases:\n",
    "la casa del perro\n",
    "el vino esta frio\n",
    "la viuda del general\n",
    "\n",
    "\n",
    "initial_word = {\"la\":2, \"el\":1}\n",
    "first_order = {\"la\":[\"casa\", \"viuda\"],\n",
    "                \"casa\":[\"del\"], \"del\":[\"perro\", \"general\"],\n",
    "                \"perro\":[\"end\"],}\n",
    "\n",
    "second_order = {(\"la\", \"casa\"): [\"del\"]}"
   ]
  },
  {
   "cell_type": "code",
   "execution_count": 30,
   "id": "abc93f2b",
   "metadata": {},
   "outputs": [],
   "source": [
    "initial_word = {}\n",
    "first_order = {}\n",
    "second_order = {}"
   ]
  },
  {
   "cell_type": "code",
   "execution_count": 31,
   "id": "c44aac77",
   "metadata": {},
   "outputs": [],
   "source": [
    "def remove_punctuation(s):\n",
    "    return s.translate(str.maketrans(\"\",\"\", string.punctuation))"
   ]
  },
  {
   "cell_type": "code",
   "execution_count": 32,
   "id": "0ca16a84",
   "metadata": {},
   "outputs": [],
   "source": [
    "#la funcion pide, un diccionario, key y valor\n",
    "def add2dict(d, k, v):\n",
    "    if k not in d:\n",
    "        d[k] = []\n",
    "    d[k].append(v)"
   ]
  },
  {
   "cell_type": "code",
   "execution_count": 33,
   "id": "65e1ed5a",
   "metadata": {},
   "outputs": [],
   "source": [
    "with open(\"benedetti.txt\", \"r\", encoding= \"utf-8\") as file:\n",
    "    for line in file:\n",
    "        #print(line)\n",
    "        #transformar cada linea en token, eliminando puntuacion y volviendo todo en minuscula\n",
    "        tokens = remove_punctuation(line.rstrip().lower()).split()\n",
    "        #print(tokens)\n",
    "    \n",
    "        T = len(tokens)\n",
    "        #print(f\"Tamaño de la fila:  {T}\")\n",
    "        #recorer los elementos de las fila\n",
    "        for i in range(T):\n",
    "            token = tokens[i]\n",
    "            if i == 0:\n",
    "                initial_word[token] = initial_word.get(token, 0.) + 1\n",
    "                #print(f\"Palabra incial: {token}\")\n",
    "                \n",
    "            else: \n",
    "                #para guardar la palabra anterior\n",
    "                t_1 = tokens[i-1]\n",
    "                if i == T - 1:\n",
    "                    add2dict(second_order, (t_1, token), \"END\")\n",
    "                if i == 1:\n",
    "                    add2dict(first_order, t_1, token)\n",
    "                else:\n",
    "                    t_2 = tokens[i-2]\n",
    "                    add2dict(second_order,(t_2, t_1), token)"
   ]
  },
  {
   "cell_type": "code",
   "execution_count": 34,
   "id": "85c079ee",
   "metadata": {},
   "outputs": [],
   "source": [
    "#initial_word\n",
    "#second_order\n",
    "#first_order"
   ]
  },
  {
   "cell_type": "markdown",
   "id": "4792602b",
   "metadata": {},
   "source": [
    "Para calcular ahora las probabilidades, vamos a normalizar"
   ]
  },
  {
   "cell_type": "code",
   "execution_count": 35,
   "id": "482f8ca6",
   "metadata": {},
   "outputs": [
    {
     "name": "stdout",
     "output_type": "stream",
     "text": [
      "1456.0\n"
     ]
    }
   ],
   "source": [
    "initial_total = sum(initial_word.values())\n",
    "print(initial_total)\n",
    "\n",
    "for t, c in initial_word.items():\n",
    "    initial_word[t] = c / initial_total"
   ]
  },
  {
   "cell_type": "code",
   "execution_count": 36,
   "id": "2f104514",
   "metadata": {},
   "outputs": [],
   "source": [
    "#initial_word"
   ]
  },
  {
   "cell_type": "code",
   "execution_count": 37,
   "id": "f0096993",
   "metadata": {},
   "outputs": [],
   "source": [
    "def list2pdict(ts):\n",
    "    d = {}\n",
    "    n = len(ts)\n",
    "    \n",
    "    #contar la ocurrencia de cada elemento en la lista\n",
    "    for t in ts:\n",
    "        d[t] = d.get(t, 0.) + 1\n",
    "    \n",
    "    #convertir los conteos en probabilidades relativas \n",
    "    for t, c in d.items():\n",
    "        d[t] = c / n\n",
    "        \n",
    "    #devolver el diccionario de probabilidaddes\n",
    "    return d "
   ]
  },
  {
   "cell_type": "code",
   "execution_count": 38,
   "id": "752dbdb8",
   "metadata": {},
   "outputs": [],
   "source": [
    "for t_1, ts in first_order.items():\n",
    "    first_order[t_1] = list2pdict(ts)"
   ]
  },
  {
   "cell_type": "code",
   "execution_count": 39,
   "id": "1d575bea",
   "metadata": {},
   "outputs": [],
   "source": [
    "#first_order"
   ]
  },
  {
   "cell_type": "code",
   "execution_count": 40,
   "id": "d80b4ffb",
   "metadata": {},
   "outputs": [],
   "source": [
    "for k, ts in second_order.items():\n",
    "    second_order[k] = list2pdict(ts)"
   ]
  },
  {
   "cell_type": "code",
   "execution_count": 41,
   "id": "ce146abe",
   "metadata": {},
   "outputs": [],
   "source": [
    "#second_order"
   ]
  },
  {
   "cell_type": "code",
   "execution_count": 42,
   "id": "72323189",
   "metadata": {},
   "outputs": [],
   "source": [
    "def example_word(d, imprimir):\n",
    "    #genera un numero aleatorio en el rango 0 - 1\n",
    "    p0 = np.random.random()\n",
    "    if(imprimir == 1):\n",
    "        print(f\"p0: {p0}\")\n",
    "        \n",
    "    #inicializa una variable para realizar la suma acumulativa de probabilidades\n",
    "    cumulative = 0\n",
    "    if (imprimir == 1):\n",
    "        print(f\"prob acumulada: {cumulative}\")\n",
    "        \n",
    "    #ciclo para recorrer cada clave t y su probabilidad p en diccionario d\n",
    "    for t, p in d.items():\n",
    "        #agregar la probabilidad aactual al valor acumulativo\n",
    "        cumulative += p\n",
    "        if(imprimir == 1):\n",
    "            print(f\"item: {t}, Prob: {p}\")\n",
    "            print(f\"prob acumulada: {cumulative}\")\n",
    "                \n",
    "        #comprobar si e numero aleatorio es meno que la acumulacion de probabilidades\n",
    "        if p0 < cumulative:\n",
    "            return t"
   ]
  },
  {
   "cell_type": "code",
   "execution_count": 43,
   "id": "b468b0c3",
   "metadata": {},
   "outputs": [
    {
     "data": {
      "text/plain": [
       "{'no': 0.4,\n",
       " 'estoy': 0.1,\n",
       " 'misma': 0.1,\n",
       " 'les': 0.1,\n",
       " 'quiziera': 0.1,\n",
       " 'las': 0.1,\n",
       " 'despejaba': 0.1}"
      ]
     },
     "execution_count": 43,
     "metadata": {},
     "output_type": "execute_result"
    }
   ],
   "source": [
    "first_order[\"yo\"]"
   ]
  },
  {
   "cell_type": "code",
   "execution_count": 44,
   "id": "a877f7d1",
   "metadata": {},
   "outputs": [
    {
     "name": "stdout",
     "output_type": "stream",
     "text": [
      "p0: 0.7580290392502802\n",
      "prob acumulada: 0\n",
      "item: no, Prob: 0.4\n",
      "prob acumulada: 0.4\n",
      "item: estoy, Prob: 0.1\n",
      "prob acumulada: 0.5\n",
      "item: misma, Prob: 0.1\n",
      "prob acumulada: 0.6\n",
      "item: les, Prob: 0.1\n",
      "prob acumulada: 0.7\n",
      "item: quiziera, Prob: 0.1\n",
      "prob acumulada: 0.7999999999999999\n"
     ]
    },
    {
     "data": {
      "text/plain": [
       "'quiziera'"
      ]
     },
     "execution_count": 44,
     "metadata": {},
     "output_type": "execute_result"
    }
   ],
   "source": [
    "example_word(first_order[\"yo\"], 1)"
   ]
  },
  {
   "cell_type": "markdown",
   "id": "e493d371",
   "metadata": {},
   "source": [
    "generador"
   ]
  },
  {
   "cell_type": "code",
   "execution_count": null,
   "id": "51dc24d8",
   "metadata": {},
   "outputs": [],
   "source": [
    "#size sera el tamaño de lineas que generamos el generador\n",
    "def generator(size):\n",
    "    for i in range(size):\n",
    "        sentence = []\n",
    "        \n",
    "        #palabra inicial\n",
    "        word0 = example_word(initial_word, 0)\n",
    "        sentence.append(word0)\n",
    "        \n",
    "        #segunda palabra\n",
    "        word1 = example_word(first_order[word0], 0)\n",
    "        sentence.append(word1)\n",
    "        \n",
    "        #segundo orden hasta el fin\n",
    "        while True:\n",
    "            word2 = example_word(second_order[(word0, word1)], 0)\n",
    "            if (word0, word1) not in second_order:\n",
    "                print(f\"Par no encontrado: ({word0}, {word1})\")\n",
    "            if word2 == \"END\":\n",
    "                break\n",
    "            sentence.append(word2)\n",
    "            word0 = word1\n",
    "            word1 = word2    \n",
    "        print(\" \".join(sentence))    "
   ]
  },
  {
   "cell_type": "code",
   "execution_count": 46,
   "id": "ad835ee0",
   "metadata": {},
   "outputs": [
    {
     "name": "stdout",
     "output_type": "stream",
     "text": [
      "pensamos que no cae\n",
      "y el puente de mi nuca\n",
      "y el entusiasmo pobre y la ceniza ajena\n",
      "la cosa es muchísimo más grave\n",
      "sin embargo\n",
      "y flamean como buscando el mar\n",
      "te quiero\n",
      "que sabe que no cae\n",
      "hay oraciones hay pétalos hay ríos\n",
      "y los solemnes adultos las celebran\n"
     ]
    }
   ],
   "source": [
    "generator(10)"
   ]
  },
  {
   "cell_type": "code",
   "execution_count": null,
   "id": "017dbdf6",
   "metadata": {},
   "outputs": [],
   "source": []
  }
 ],
 "metadata": {
  "kernelspec": {
   "display_name": "nlp",
   "language": "python",
   "name": "python3"
  },
  "language_info": {
   "codemirror_mode": {
    "name": "ipython",
    "version": 3
   },
   "file_extension": ".py",
   "mimetype": "text/x-python",
   "name": "python",
   "nbconvert_exporter": "python",
   "pygments_lexer": "ipython3",
   "version": "3.11.13"
  }
 },
 "nbformat": 4,
 "nbformat_minor": 5
}
