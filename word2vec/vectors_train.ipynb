{
 "cells": [
  {
   "cell_type": "markdown",
   "id": "e505bd8a",
   "metadata": {},
   "source": [
    "Word2Vec"
   ]
  },
  {
   "cell_type": "markdown",
   "id": "d2ce950d",
   "metadata": {},
   "source": [
    "Es sun modelo que se usa para aprender las diferentes representaciones vectoriales de las palabras. Estas pueden capturar muchas propiedades linguisticas de las palabras, como el significado semántico, gramatical y hasta contextual."
   ]
  },
  {
   "cell_type": "code",
   "execution_count": 1,
   "id": "83161cea",
   "metadata": {},
   "outputs": [
    {
     "name": "stderr",
     "output_type": "stream",
     "text": [
      "No se esperaba & en este momento.\n",
      "No se pudo analizar el valor especificado en una clave del Registro de ejecuci�n autom�tica.\n"
     ]
    }
   ],
   "source": [
    "!pip install pypdf2 -q"
   ]
  },
  {
   "cell_type": "code",
   "execution_count": 1,
   "id": "1d1b268e",
   "metadata": {},
   "outputs": [],
   "source": [
    "import string\n",
    "from gensim.models import Word2Vec\n",
    "import PyPDF2"
   ]
  },
  {
   "cell_type": "code",
   "execution_count": 2,
   "id": "9f59247d",
   "metadata": {},
   "outputs": [],
   "source": [
    "with open(\"evangelio_segun_marcos.txt\", \"r\", encoding=\"UTF-8\") as file:\n",
    "    document = file.read()"
   ]
  },
  {
   "cell_type": "code",
   "execution_count": 3,
   "id": "6fe92145",
   "metadata": {},
   "outputs": [
    {
     "data": {
      "text/plain": [
       "'EVANGELIO SEGUN MARCOS Jorge Luis Borges.\\nEl hecho sucedió en la estancia Los Álamos, en el partido de Junín, hacia el sur, en los últimos días del mes de marzo de 1928. Su protagonista fue un estudiante de medicina, Baltasar Espinosa. Podemos definirlo por ahora como uno de tantos muchachos porteños, sin otros rasgos dignos de nota que esa facultad oratoria que le había hecho merecer más de un premio en el colegio inglés de Ramos Mejía y que una casi ilimitada bondad. No le gustaba discutir; prefería que el interlocutor tuviera razón y no él. Aunque los azares del juego le interesaban, era un mal jugador, porque le desagradaba ganar. Su abierta inteligencia era perezosa; a los treinta y tres años le faltaba rendir una materia para graduarse, la que más lo atraía. Su padre, que era librepensador, como todos los señores de su época, lo había instruido en la doctrina de Herbert Spencer, pero su madre, antes de un viaje a Montevideo, le pidió que todas las noches rezara el Padrenuestro e hiciera la señal de la cruz. A lo largo de los años no había quebrado nunca esa promesa. No carecía de coraje; una mañana había cambiado, con más indiferencia que ira, dos o tres puñetazos con un grupo de compañeros que querían forzarlo a participar en una huelga universitaria. Abundaba, por espíritu de aquiescencia, en opiniones o hábitos discutibles: el país le importaba menos que el riesgo de que en otras partes creyeran que usamos plumas; veneraba a Francia pero menospreciaba a los franceses; tenía en poco a los americanos, pero aprobaba el hecho de que hubiera rascacielos en Buenos Aires; creía que los gauchos de la llanura son mejores jinetes que los de las cuchillas o los cerros. Cuando Daniel, su primo, le propuso veranear en Los Álamos, dijo inmediatamente que sí, no porque le gustara el campo sino por natural complacencia y porque no buscó razones válidas para decir que no.\\nEl casco de la estancia era grande y un poco abandonado; las dependencias del capataz, que se llamaba Gutre, estaban muy cerca. Los Gutres eran tres: el padre, el hijo, que era singularmente tosco, y una muchacha de incierta paternidad. Eran altos, fuertes, huesudos, de pelo que tiraba a rojizo y de caras aindiadas. Casi no hablaban. La mujer del capataz había muerto hace años.\\nEspinosa, en el campo, fue aprendiendo cosas que no sabía y que no sospechaba. Por ejemplo, que no hay que galopar cuando uno se está acercando a las casas y que nadie sale a andar a caballo sino para cumplir con una tarea. Con el tiempo llegaría a distinguir los pájaros por el grito.\\nA los pocos días, Daniel tuvo que ausentarse a la capital para cerrar una operación de animales. A lo sumo, el negocio le tomaría una semana. Espinosa, que ya estaba un poco harto de las bonnes fortunes de su primo y de su infatigable interés por las variaciones de la sastrería, prefirió quedarse en la estancia, con sus libros de texto. El calor apretaba y ni siquiera la noche traía un alivio. En el alba, los truenos lo despertaron. El viento zamarreaba las casuarinas. Espinosa oyó las primeras gotas y dio gracias a Dios. El aire frío vino de golpe. Esa tarde, el Salado se desbordó.\\nAl otro día, Baltasar Espinosa, mirando desde la galería los campos anegados, pensó que la metáfora que equipara la pampa con el mar no era, por lo menos esa mañana, del todo falsa, aunque Hudson había dejado escrito que el mar nos parece más grande, porque lo vemos desde la cubierta del barco y no desde el caballo o desde nuestra altura. La lluvia no cejaba; los Gutres, ayudados o incomodados por el pueblero, salvaron buena parte de la hacienda, aunque hubo muchos animales ahogados. Los caminos para llegar a la estancia eran cuatro: a todos los cubrieron las aguas. Al tercer día, una gotera amenazó la casa del capataz; Espinosa les dio una habitación que quedaba en el fondo, al lado del galpón de las herramientas. La mudanza los fue acercando; comían juntos en el gran comedor. El diálogo resultaba difícil; los Gutres, que sabían tantas cosas en materia de campo, no sabían explicarlas. Una noche, Espinosa les preguntó si la gente guardaba algún recuerdo de los malones, cuando la comandancia estaba en Junín. Le dijeron que sí, pero lo mismo hubieran contestado a una pregunta sobre la ejecución de Carlos Primero. Espinosa recordó que su padre solía decir que casi todos los casos de longevidad que se dan en el campo son casos de mala memoria o de un concepto vago de las fechas. Los gauchos suelen ignorar por igual el año en que nacieron y el nombre de quien los engendró.\\nEn toda la casa no había otros libros que una serie de la revista La Chacra, un manual de veterinaria, un ejemplar de lujo del Tabaré, una Historia del Shorthorn en la Argentina, unos cuantos relatos eróticos o policiales y una novela reciente: Don Segundo Sombra. Espinosa, para distraer de algún modo la sobremesa inevitable, leyó un par de capítulos a los Gutres, que eran analfabetos. Desgraciadamente, el capataz había sido tropero y no le podían importar las andanzas de otro. Dijo que ese trabajo era liviano, que llevaban siempre un carguero con todo lo que se precisa y que, de no haber sido tropero, no habría llegado nunca hasta la Laguna de Gómez, hasta el Bragado y hasta los campos de los Núñez, en Chacabuco. En la cocina había una guitarra; los peones, antes de los hechos que narro, se sentaban en rueda; alguien la templaba y no llegaba nunca a tocar. Esto se llamaba una guitarreada.\\nEspinosa, que se había dejado crecer la barba, solía demorarse ante el espejo para mirar su cara cambiada y sonreía al pensar que en Buenos Aires aburriría a los muchachos con el relato de la inundación del Salado. Curiosamente, extrañaba lugares a los que no iba nunca y no iría: una esquina de la calle Cabrera en la que hay un buzón, unos leones de mampostería en un portón de la calle Jujuy, a unas cuadras del Once, un almacén con piso de baldosa que no sabía muy bien dónde estaba. En cuanto a sus hermanos y a su padre, ya sabrían por Daniel que estaba aislado -la palabra, etimológicamente, era justa- por la creciente.\\nExplorando la casa, siempre cercada por las aguas, dio con una Biblia en inglés. En las páginas finales los Guthrie -tal era su nombre genuino- habían dejado escrita su historia. Eran oriundos de Inverness, habían arribado a este continente, sin duda como peones, a principios del siglo diecinueve, y se habían cruzado con indios. La crónica cesaba hacia mil ochocientos setenta y tantos; ya no sabían escribir. Al cabo de unas pocas generaciones habían olvidado el inglés; el castellano, cuando Espinosa los conoció, les daba trabajo. Carecían de fe, pero en su sangre perduraban, como rastros oscuros, el duro fanatismo del calvinista y las supersticiones del pampa. Espinosa les habló de su hallazgo y casi no escucharon.\\nHojeó el volumen y sus dedos lo abrieron en el comienzo del Evangelio según Marcos. Para ejercitarse en la traducción y acaso para ver si entendían algo, decidió leerles ese texto después de la comida. Le sorprendió que lo escucharan con atención y luego con callado interés. Acaso la presencia de las letras de oro en la tapa le diera más autoridad. Lo llevan en la sangre, pensó. También se le ocurrió que los hombres, a lo largo del tiempo, han repetido siempre dos historias: la de un bajel perdido que busca por los mares mediterráneos una isla querida, y la de un dios que se hace crucificar en el Gólgota. Recordó las clases de elocución en Ramos Mejía y se ponía de pie para predicar las parábolas.\\nLos Gutres despachaban la carne asada y las sardinas para no demorar el Evangelio.\\nUna corderita que la muchacha mimaba y adornaba con una cintita celeste se lastimó con un alambrado de púa. Para parar la sangre, querían ponerle una telaraña; Espinosa la curó con unas pastillas. La gratitud que esa curación despertó no dejó de asombrarlo. Al principio, había desconfiado de los Gutres y había escondido en uno de sus libros los doscientos cuarenta pesos que llevaba consigo; ahora, ausente el patrón, él había tomado su lugar y daba órdenes tímidas, que eran inmediatamente acatadas. Los Gutres lo seguían por las piezas y por el corredor, como si anduvieran perdidos. Mientras leía, notó que le retiraban las migas que él había dejado sobre la mesa. Una tarde los sorprendió hablando de él con respeto y pocas palabras. Concluido el Evangelio según Marcos, quiso leer otro de los tres que faltaban; el padre le pidió que repitiera el que ya había leído, para entenderlo bien. Espinosa sintió que eran como niños, a quienes la repetición les agrada más que la variación o la novedad. Una noche soñó con el Diluvio, lo cual no es de extrañar; los martillazos de la fabricación del arca lo despertaron y pensó que acaso eran truenos. En efecto, la lluvia, que había amainado, volvió a recrudecer. El frío era intenso. Le dijeron que el temporal había roto el techo del galpón de las herramientas y que iban a mostrárselo cuando estuvieran arregladas las vigas. Ya no era un forastero y todos lo trataban con atención y casi lo mimaban. A ninguno le gustaba el café, pero había siempre un tacita para él, que colmaban de azúcar.\\nEl temporal ocurrió un martes. El jueves a la noche lo recordó un golpecito suave en la puerta que, por las dudas, él siempre cerraba con llave. Se levantó y abrió: era la muchacha. En la oscuridad no la vio, pero por los pasos notó que estaba descalza y después, en el lecho, que había venido desde el fondo, desnuda. No lo abrazó, no dijo una sola palabra; se tendió junto a él y estaba temblando. Era la primera vez que conocía a un hombre. Cuando se fue, no le dio un beso; Espinosa pensó que ni siquiera sabía cómo se llamaba. Urgido por una íntima razón que no trató de averiguar, juró que en Buenos Aires no le contaría a nadie esa historia.\\nEl día siguiente comenzó como los anteriores, salvo que el padre habló con Espinosa y le preguntó si Cristo se dejó matar para salvar a todos los hombres. Espinosa, que era librepensador pero que se vio obligado a justificar lo que les había leído, le contestó:\\n-Sí. Para salvar a todos del infierno.\\nGutre le dijo entonces:\\n-¿Qué es el infierno?\\n-Un lugar bajo tierra donde las ánimas arderán y arderán.\\n-¿Y también se salvaron los que le clavaron los clavos?\\n-Sí -replicó Espinosa, cuya teología era incierta.\\nHabía temido que el capataz le exigiera cuentas de lo ocurrido anoche con su hija. Después del almuerzo, le pidieron que releyera los últimos capítulos. Espinosa durmió una siesta larga, un leve sueño interrumpido por persistentes martillos y por vagas premoniciones. Hacia el atardecer se levantó y salió al corredor. Dijo como si pensara en voz alta:\\n-Las aguas están bajas. Ya falta poco.\\n-Ya falta poco -repitió Gutrel, como un eco.\\nLos tres lo habían seguido. Hincados en el piso de piedra le pidieron la bendición. Después lo maldijeron, lo escupieron y lo empujaron hasta el fondo. La muchacha lloraba. Espinosa entendió lo que le esperaba del otro lado de la puerta. Cuando la abrieron, vio el firmamento. Un pájaro gritó; pensó: es un jilguero. El galpón estaba sin techo; habían arrancado las vigas para construir la Cruz. FIN'"
      ]
     },
     "execution_count": 3,
     "metadata": {},
     "output_type": "execute_result"
    }
   ],
   "source": [
    "document"
   ]
  },
  {
   "cell_type": "code",
   "execution_count": 4,
   "id": "a2f9c1cb",
   "metadata": {},
   "outputs": [
    {
     "data": {
      "text/plain": [
       "11133"
      ]
     },
     "execution_count": 4,
     "metadata": {},
     "output_type": "execute_result"
    }
   ],
   "source": [
    "len(document)"
   ]
  },
  {
   "cell_type": "markdown",
   "id": "13562f91",
   "metadata": {},
   "source": [
    "Preprocesamiento de los datos"
   ]
  },
  {
   "cell_type": "markdown",
   "id": "0a33cbf6",
   "metadata": {},
   "source": [
    "Vamos a organizar y limpiar datos, esto quiere decir que se va a crear una lista de frases y cada frase en una lista de palabraws, para esto hay que eliminar signos de puntuacion, y para datos uniformes todas las palabras que contengan mayusculas en  en minuscula"
   ]
  },
  {
   "cell_type": "code",
   "execution_count": 5,
   "id": "7cdb13bf",
   "metadata": {},
   "outputs": [
    {
     "data": {
      "text/plain": [
       "107"
      ]
     },
     "execution_count": 5,
     "metadata": {},
     "output_type": "execute_result"
    }
   ],
   "source": [
    "#dividir el documento en frases usando punto como separador\n",
    "sentences = document.split(\".\")\n",
    "len(sentences)"
   ]
  },
  {
   "cell_type": "code",
   "execution_count": 6,
   "id": "709b862f",
   "metadata": {},
   "outputs": [
    {
     "data": {
      "text/plain": [
       "'EVANGELIO SEGUN MARCOS Jorge Luis Borges'"
      ]
     },
     "execution_count": 6,
     "metadata": {},
     "output_type": "execute_result"
    }
   ],
   "source": [
    "sentences[0]"
   ]
  },
  {
   "cell_type": "code",
   "execution_count": 7,
   "id": "c6c0a54a",
   "metadata": {},
   "outputs": [],
   "source": [
    "#limpiar las oraciones\n",
    "clean_sentences = []\n",
    "for sentence in sentences:\n",
    "    #transfdormando los signos de puntuacion en nada y dividiendolos con .split()\n",
    "    tokens = sentence.translate(str.maketrans(\"\", \"\", string.punctuation)).split()\n",
    "    \n",
    "    tokens = [word.lower() for word in tokens if word.isalpha()]\n",
    "    \n",
    "    if tokens: \n",
    "        clean_sentences.append(tokens)"
   ]
  },
  {
   "cell_type": "code",
   "execution_count": 8,
   "id": "34cffdef",
   "metadata": {},
   "outputs": [
    {
     "data": {
      "text/plain": [
       "['evangelio', 'segun', 'marcos', 'jorge', 'luis', 'borges']"
      ]
     },
     "execution_count": 8,
     "metadata": {},
     "output_type": "execute_result"
    }
   ],
   "source": [
    "clean_sentences[0]"
   ]
  },
  {
   "cell_type": "markdown",
   "id": "40a207b2",
   "metadata": {},
   "source": [
    "Entrenamioento del modelo word2vec"
   ]
  },
  {
   "cell_type": "code",
   "execution_count": 9,
   "id": "2f1aec24",
   "metadata": {},
   "outputs": [],
   "source": [
    "model = Word2Vec(sentences = clean_sentences,\n",
    "                 vector_size = 200, window=5, min_count=1, workers=2)\n",
    "#vector=tamaño del embedding, window=palabras que quiero que considere\n",
    "#min_count=el valor minimo de apariciones de la palabra para ser considerada\n",
    "#workers=procesadores para trabjar al tiempo, depende del compu"
   ]
  },
  {
   "cell_type": "code",
   "execution_count": 10,
   "id": "5c8e49f5",
   "metadata": {},
   "outputs": [],
   "source": [
    "vectors = model.wv[\"evangelio\"]"
   ]
  },
  {
   "cell_type": "code",
   "execution_count": 11,
   "id": "2b437208",
   "metadata": {},
   "outputs": [
    {
     "data": {
      "text/plain": [
       "array([-2.0662521e-03,  4.8288965e-04, -5.3292373e-04, -3.4304438e-03,\n",
       "        4.5746267e-03,  3.0193774e-03,  5.1603423e-05,  2.0791548e-03,\n",
       "        1.2708051e-03,  2.1072214e-03,  8.0825214e-04,  3.8040362e-03,\n",
       "        3.2459726e-03,  4.5090257e-03, -3.4152018e-03,  2.4472291e-03,\n",
       "        1.7552044e-03,  4.3602958e-03,  4.8605883e-03,  4.1281222e-03,\n",
       "        2.5269615e-03,  3.2127702e-03, -4.2643109e-03, -4.1588834e-03,\n",
       "       -2.3645097e-04, -2.7983189e-03,  3.4918559e-03,  2.8305775e-03,\n",
       "       -3.0129711e-04, -2.0433061e-03,  2.3558633e-03,  2.0375389e-03,\n",
       "       -7.1022770e-04, -1.5286444e-03,  5.3040527e-05,  1.3003515e-03,\n",
       "       -4.6607861e-03,  4.9088243e-03,  1.4110440e-03,  2.7133524e-03,\n",
       "        8.2563196e-04, -1.2465471e-03,  5.8065943e-04, -4.3148431e-03,\n",
       "       -2.5696605e-03,  1.8228372e-03, -2.7482631e-03, -9.5234995e-05,\n",
       "       -4.3632444e-03,  4.5845639e-03,  2.4424905e-03,  2.7858284e-03,\n",
       "       -4.5087207e-03,  9.9476264e-04, -4.8963893e-03,  6.5544422e-04,\n",
       "       -2.3965419e-03,  1.5535220e-03, -7.0151914e-04,  1.2077861e-03,\n",
       "        4.2958860e-03, -2.8184245e-03,  7.0088269e-04,  3.4731317e-03,\n",
       "       -4.1782102e-03, -1.6810660e-03,  1.0253191e-03, -2.8404896e-03,\n",
       "        4.2290646e-03, -1.0695894e-03,  1.5282871e-03,  7.8634085e-04,\n",
       "       -2.7324327e-03, -1.1554928e-03,  1.8530444e-03, -4.1938191e-03,\n",
       "       -1.3616576e-04,  5.2620465e-04,  9.1359450e-04,  2.4125350e-03,\n",
       "       -2.1340649e-03,  3.9571477e-03, -4.6917317e-03, -4.4463114e-03,\n",
       "       -1.9075756e-03, -2.1619941e-03,  1.7334748e-03, -2.8131071e-03,\n",
       "        3.6101292e-03, -3.9182144e-04, -2.9689358e-03, -3.4094036e-03,\n",
       "       -2.7312043e-03, -3.9660709e-04,  2.9049005e-04,  1.8636918e-03,\n",
       "        1.2442716e-03, -3.2952782e-03, -1.7237054e-04,  2.8810084e-03,\n",
       "       -3.6618272e-03, -3.9356616e-03,  4.3567461e-03, -4.7687473e-04,\n",
       "       -3.7288191e-04,  8.0974499e-04,  1.8715195e-04,  4.3557012e-03,\n",
       "       -4.6303971e-03, -1.7582765e-03, -1.2400671e-03, -4.6319626e-03,\n",
       "        2.0865547e-03,  3.0409545e-03, -2.6446374e-03,  3.7590014e-03,\n",
       "       -3.4330650e-03, -1.0680926e-03, -1.6792984e-03,  2.8572439e-03,\n",
       "        4.6373494e-03,  4.2814147e-03, -9.3273260e-04, -3.8287011e-03,\n",
       "       -2.3883865e-03,  3.9944691e-03,  1.3309078e-03, -4.8035868e-03,\n",
       "       -3.3959236e-03, -1.0406419e-03, -2.7065163e-03, -7.0091564e-04,\n",
       "        9.3260210e-04,  2.7426120e-03,  1.0663370e-03,  4.2235982e-03,\n",
       "       -2.0768038e-04,  4.1926680e-03,  4.5277746e-03,  1.4112176e-03,\n",
       "        4.0299734e-03,  3.9312448e-03, -4.1469731e-03,  2.9135682e-03,\n",
       "        1.8338171e-03, -4.3944898e-03, -4.4275722e-03,  3.5647943e-03,\n",
       "       -2.5271021e-03, -1.6813331e-03,  7.0994481e-04, -2.5850834e-04,\n",
       "       -2.3574778e-04, -4.0370198e-03, -1.1297575e-03,  2.4430028e-03,\n",
       "        4.8973882e-03,  1.0354939e-03,  1.1296892e-03,  9.6240960e-04,\n",
       "       -4.9011083e-03,  1.9402521e-03,  1.6672224e-03, -2.7171802e-04,\n",
       "       -1.7362766e-03, -2.8529966e-03,  1.5765644e-03, -1.6332003e-03,\n",
       "        3.4168900e-03, -2.2623860e-03, -2.4687396e-03, -2.7334613e-03,\n",
       "       -3.5114237e-03, -3.7588503e-03,  3.3800213e-03, -2.1157183e-03,\n",
       "        4.2371821e-04, -1.6546879e-03, -3.8168805e-03,  2.1749916e-03,\n",
       "        5.8482290e-04,  4.2639570e-03,  8.9141069e-04, -2.4117078e-03,\n",
       "       -3.5887673e-03,  7.8189850e-04, -2.2641758e-03,  2.4864662e-03,\n",
       "        3.9167455e-03, -2.3341994e-03,  2.4893649e-03, -7.5618096e-05,\n",
       "        3.6161805e-03,  3.6875035e-03,  2.0619303e-04,  2.5739840e-03,\n",
       "       -3.5580583e-03, -1.4486125e-03,  4.5060962e-03, -5.4894201e-04],\n",
       "      dtype=float32)"
      ]
     },
     "execution_count": 11,
     "metadata": {},
     "output_type": "execute_result"
    }
   ],
   "source": [
    "vectors"
   ]
  },
  {
   "cell_type": "code",
   "execution_count": 22,
   "id": "6064042c",
   "metadata": {},
   "outputs": [
    {
     "data": {
      "text/plain": [
       "[('cruzado', 0.24958005547523499),\n",
       " ('y', 0.24656715989112854),\n",
       " ('alambrado', 0.22830753028392792),\n",
       " ('manual', 0.22649982571601868),\n",
       " ('nuestra', 0.21540915966033936),\n",
       " ('cuentas', 0.20115041732788086),\n",
       " ('salió', 0.18451543152332306),\n",
       " ('tosco', 0.17877371609210968),\n",
       " ('asada', 0.1779061108827591),\n",
       " ('faltaban', 0.1760515719652176)]"
      ]
     },
     "execution_count": 22,
     "metadata": {},
     "output_type": "execute_result"
    }
   ],
   "source": [
    "nearby_words = model.wv.most_similar(\"mujer\", topn=10)\n",
    "nearby_words"
   ]
  },
  {
   "cell_type": "markdown",
   "id": "578ddd62",
   "metadata": {},
   "source": [
    "Guardar y cargar modelo"
   ]
  },
  {
   "cell_type": "code",
   "execution_count": 13,
   "id": "3479db81",
   "metadata": {},
   "outputs": [
    {
     "data": {
      "text/plain": [
       "[('comandancia', 0.1767747551202774),\n",
       " ('grupo', 0.17673633992671967),\n",
       " ('comida', 0.17570312321186066),\n",
       " ('biblia', 0.17472001910209656),\n",
       " ('buzón', 0.1659603714942932),\n",
       " ('este', 0.16557490825653076),\n",
       " ('fabricación', 0.16106219589710236),\n",
       " ('calle', 0.15869176387786865),\n",
       " ('discutibles', 0.15830892324447632),\n",
       " ('su', 0.15332645177841187)]"
      ]
     },
     "execution_count": 13,
     "metadata": {},
     "output_type": "execute_result"
    }
   ],
   "source": [
    "model.save(\"evangelio.model\")\n",
    "modelo_cargar = Word2Vec.load(\"evangelio.model\")\n",
    "nearby_wordsc = modelo_cargar.wv.most_similar(\"evangelio\", topn=10)\n",
    "nearby_wordsc"
   ]
  },
  {
   "cell_type": "markdown",
   "id": "1358d790",
   "metadata": {},
   "source": [
    "Guardar los embeddings y cargarlos"
   ]
  },
  {
   "cell_type": "code",
   "execution_count": 15,
   "id": "e6645e43",
   "metadata": {},
   "outputs": [],
   "source": [
    "model.wv.save_word2vec_format(\"evan_emb.txt\", binary = False)\n",
    "model.wv.save_word2vec_format(\"evan_emb.bin\", binary = True)"
   ]
  },
  {
   "cell_type": "code",
   "execution_count": null,
   "id": "f2706ecb",
   "metadata": {},
   "outputs": [
    {
     "data": {
      "text/plain": [
       "<gensim.models.keyedvectors.KeyedVectors at 0x1c27f92d1d0>"
      ]
     },
     "execution_count": 18,
     "metadata": {},
     "output_type": "execute_result"
    }
   ],
   "source": [
    "from gensim.models import KeyedVectors\n",
    "\n",
    "embeddings_cargados = KeyedVectors.load_word2vec_format(\"models/evan_emb.txt\", binary=False)\n",
    "embeddings_cargados = KeyedVectors.load_word2vec_format(\"models/evan_emb.bin\", binary=True)\n",
    "\n",
    "embeddings_cargados\n"
   ]
  },
  {
   "cell_type": "code",
   "execution_count": 20,
   "id": "e0629b80",
   "metadata": {},
   "outputs": [],
   "source": [
    "def analogies(v1, v2, v3):\n",
    "    similarity = embeddings_cargados.most_similar(positive = [v1, v3], negative = [v2])\n",
    "    print(f\"{v1} es a {v2} como {similarity[0][0]} es a {v3}\")"
   ]
  },
  {
   "cell_type": "code",
   "execution_count": 24,
   "id": "acd5d096",
   "metadata": {},
   "outputs": [
    {
     "name": "stdout",
     "output_type": "stream",
     "text": [
      "evangelio es a hombre como conoció es a mujer\n"
     ]
    }
   ],
   "source": [
    "analogies(\"evangelio\", \"hombre\", \"mujer\")"
   ]
  },
  {
   "cell_type": "markdown",
   "id": "4770620d",
   "metadata": {},
   "source": [
    "Ejemplo con libro de 100 años de soledad"
   ]
  },
  {
   "cell_type": "code",
   "execution_count": 26,
   "id": "4579178d",
   "metadata": {},
   "outputs": [],
   "source": [
    "def extract_text_from_pdf(ruta):\n",
    "    with open(ruta, \"rb\") as bookpdf:\n",
    "        reader = PyPDF2.PdfReader(bookpdf)\n",
    "        text = \"\"\n",
    "        for page in range (len(reader.pages)):\n",
    "            text += reader.pages[page].extract_text()\n",
    "    return text\n",
    "\n",
    "document = extract_text_from_pdf(\"100as.pdf\")"
   ]
  },
  {
   "cell_type": "code",
   "execution_count": 28,
   "id": "027ff40b",
   "metadata": {},
   "outputs": [
    {
     "data": {
      "text/plain": [
       "823735"
      ]
     },
     "execution_count": 28,
     "metadata": {},
     "output_type": "execute_result"
    }
   ],
   "source": [
    "len(document)"
   ]
  },
  {
   "cell_type": "code",
   "execution_count": 29,
   "id": "1747d95e",
   "metadata": {},
   "outputs": [
    {
     "data": {
      "text/plain": [
       "8854"
      ]
     },
     "execution_count": 29,
     "metadata": {},
     "output_type": "execute_result"
    }
   ],
   "source": [
    "#dividir el documento en frases usando la coma como separador\n",
    "sentences2 = document.split(\",\")\n",
    "len(sentences2)"
   ]
  },
  {
   "cell_type": "code",
   "execution_count": 30,
   "id": "31bfe643",
   "metadata": {},
   "outputs": [
    {
     "data": {
      "text/plain": [
       "' \\nansioso de un lugar seguro donde esperar la vejez'"
      ]
     },
     "execution_count": 30,
     "metadata": {},
     "output_type": "execute_result"
    }
   ],
   "source": [
    "sentences2[2000]"
   ]
  },
  {
   "cell_type": "code",
   "execution_count": 45,
   "id": "b5b3301d",
   "metadata": {},
   "outputs": [],
   "source": [
    "clean_sentences2 = []\n",
    "for sentence2 in sentences2:\n",
    "    #Eliminar signos de puntuacion\n",
    "    tokens = sentence2.translate(str.maketrans(\"\", \"\", string.punctuation)).split()\n",
    "    \n",
    "    #convertir a minusculas\n",
    "    tokens = [word.lower() for word in tokens if word.isalpha()]\n",
    "    if tokens:\n",
    "        clean_sentences2.append(tokens)"
   ]
  },
  {
   "cell_type": "code",
   "execution_count": 46,
   "id": "f28a7d75",
   "metadata": {},
   "outputs": [
    {
     "data": {
      "text/plain": [
       "['ansioso', 'de', 'un', 'lugar', 'seguro', 'donde', 'esperar', 'la', 'vejez']"
      ]
     },
     "execution_count": 46,
     "metadata": {},
     "output_type": "execute_result"
    }
   ],
   "source": [
    "clean_sentences2[2000]"
   ]
  },
  {
   "cell_type": "code",
   "execution_count": 47,
   "id": "f9527870",
   "metadata": {},
   "outputs": [],
   "source": [
    "#Entrenar el modelo\n",
    "model2 = Word2Vec(sentences=clean_sentences2, \n",
    "                 vector_size=500, window=5, min_count=1, workers=3)"
   ]
  },
  {
   "cell_type": "code",
   "execution_count": 50,
   "id": "10709967",
   "metadata": {},
   "outputs": [
    {
     "data": {
      "text/plain": [
       "[('segundo', 0.9968621730804443),\n",
       " ('buendia', 0.9953004717826843),\n",
       " ('josé', 0.9915806651115417),\n",
       " ('pequeño', 0.9885264039039612),\n",
       " ('promovió', 0.9847121238708496),\n",
       " ('aureliano', 0.9837052822113037),\n",
       " ('delirios', 0.980522096157074),\n",
       " ('tío', 0.9788908362388611),\n",
       " ('arcadio', 0.9745221138000488),\n",
       " ('coronel', 0.9743931889533997)]"
      ]
     },
     "execution_count": 50,
     "metadata": {},
     "output_type": "execute_result"
    }
   ],
   "source": [
    "nearby_words2 = model2.wv.most_similar(\"buendía\", topn=10)\n",
    "nearby_words2"
   ]
  },
  {
   "cell_type": "code",
   "execution_count": 52,
   "id": "cfc8adeb",
   "metadata": {},
   "outputs": [
    {
     "data": {
      "text/plain": [
       "[('tiempo', 0.9998828172683716),\n",
       " ('era', 0.9998675584793091),\n",
       " ('se', 0.9998541474342346),\n",
       " ('él', 0.9998449087142944),\n",
       " ('momento', 0.9998136758804321),\n",
       " ('todo', 0.9998122453689575),\n",
       " ('esta', 0.9997974038124084),\n",
       " ('sabía', 0.999788224697113),\n",
       " ('primera', 0.9997667074203491),\n",
       " ('vio', 0.9997503757476807)]"
      ]
     },
     "execution_count": 52,
     "metadata": {},
     "output_type": "execute_result"
    }
   ],
   "source": [
    "nearby_words2 = model2.wv.most_similar(\"mujer\", topn=10)\n",
    "nearby_words2"
   ]
  },
  {
   "cell_type": "code",
   "execution_count": 53,
   "id": "b0d00bcc",
   "metadata": {},
   "outputs": [
    {
     "data": {
      "text/plain": [
       "[('gabriel', 0.9997426271438599),\n",
       " ('años', 0.9982031583786011),\n",
       " ('garcía', 0.9979515671730042),\n",
       " ('cien', 0.9947893619537354),\n",
       " ('márquez', 0.9781323075294495),\n",
       " ('anticipación', 0.9658273458480835),\n",
       " ('gerineldo', 0.960472047328949),\n",
       " ('cáscara', 0.9593839645385742),\n",
       " ('abandono', 0.9572986364364624),\n",
       " ('matarlo', 0.9564138054847717)]"
      ]
     },
     "execution_count": 53,
     "metadata": {},
     "output_type": "execute_result"
    }
   ],
   "source": [
    "nearby_words2 = model2.wv.most_similar(\"soledad\", topn=10)\n",
    "nearby_words2"
   ]
  },
  {
   "cell_type": "code",
   "execution_count": 54,
   "id": "6360b34a",
   "metadata": {},
   "outputs": [],
   "source": [
    "model2.wv.save_word2vec_format(\"models/100as_emb.txt\", binary=False)"
   ]
  },
  {
   "cell_type": "code",
   "execution_count": 55,
   "id": "f19b2c8e",
   "metadata": {},
   "outputs": [
    {
     "data": {
      "text/plain": [
       "<gensim.models.keyedvectors.KeyedVectors at 0x1c2003190d0>"
      ]
     },
     "execution_count": 55,
     "metadata": {},
     "output_type": "execute_result"
    }
   ],
   "source": [
    "embeddings_cargados = KeyedVectors.load_word2vec_format(\"models/100as_emb.txt\", binary=False)\n",
    "embeddings_cargados\n"
   ]
  },
  {
   "cell_type": "code",
   "execution_count": 56,
   "id": "1db6ab19",
   "metadata": {},
   "outputs": [],
   "source": [
    "def analogies(v1, v2, v3):\n",
    "    similarity = embeddings_cargados.most_similar(positive = [v1, v3], negative = [v2])\n",
    "    print(f\"{v1} es a {v2} como {similarity[0][0]} es a {v3}\")"
   ]
  },
  {
   "cell_type": "code",
   "execution_count": 57,
   "id": "7ed0916c",
   "metadata": {},
   "outputs": [
    {
     "name": "stdout",
     "output_type": "stream",
     "text": [
      "rey es a hombre como pero es a mujer\n"
     ]
    }
   ],
   "source": [
    "analogies(\"rey\", \"hombre\", \"mujer\")"
   ]
  }
 ],
 "metadata": {
  "kernelspec": {
   "display_name": "nlp",
   "language": "python",
   "name": "python3"
  },
  "language_info": {
   "codemirror_mode": {
    "name": "ipython",
    "version": 3
   },
   "file_extension": ".py",
   "mimetype": "text/x-python",
   "name": "python",
   "nbconvert_exporter": "python",
   "pygments_lexer": "ipython3",
   "version": "3.11.13"
  }
 },
 "nbformat": 4,
 "nbformat_minor": 5
}
