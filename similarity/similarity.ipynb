{
 "cells": [
  {
   "cell_type": "code",
   "execution_count": 1,
   "id": "aed4e879",
   "metadata": {},
   "outputs": [],
   "source": [
    "import gensim"
   ]
  },
  {
   "cell_type": "code",
   "execution_count": 2,
   "id": "3f9ab8cb",
   "metadata": {},
   "outputs": [],
   "source": [
    "vectors = gensim.models.KeyedVectors.load_word2vec_format(\"SBW-vectors-300-min5.txt\")"
   ]
  },
  {
   "cell_type": "code",
   "execution_count": 3,
   "id": "3002cb23",
   "metadata": {},
   "outputs": [],
   "source": [
    "def analogies(v1, v2, v3):\n",
    "    similarity = vectors.most_similar(positive = [v1, v3], negative = [v2])\n",
    "    print(f\"{v1} es a {v2} como {similarity[0][0]} es a {v3}\")"
   ]
  },
  {
   "cell_type": "code",
   "execution_count": 4,
   "id": "fde54006",
   "metadata": {},
   "outputs": [
    {
     "name": "stdout",
     "output_type": "stream",
     "text": [
      "rey es a hombre como reina es a mujer\n"
     ]
    }
   ],
   "source": [
    "analogies(\"rey\", \"hombre\", \"mujer\")"
   ]
  },
  {
   "cell_type": "code",
   "execution_count": 5,
   "id": "c05c6fc2",
   "metadata": {},
   "outputs": [
    {
     "name": "stdout",
     "output_type": "stream",
     "text": [
      "alemania es a alemán como España es a español\n"
     ]
    }
   ],
   "source": [
    "analogies(\"alemania\", \"alemán\", \"español\")"
   ]
  },
  {
   "cell_type": "code",
   "execution_count": 6,
   "id": "fce7482e",
   "metadata": {},
   "outputs": [
    {
     "name": "stdout",
     "output_type": "stream",
     "text": [
      "pan es a trigo como yogur es a leche\n"
     ]
    }
   ],
   "source": [
    "analogies(\"pan\", \"trigo\", \"leche\")"
   ]
  },
  {
   "cell_type": "code",
   "execution_count": 7,
   "id": "0f461d55",
   "metadata": {},
   "outputs": [
    {
     "name": "stdout",
     "output_type": "stream",
     "text": [
      "vaca es a leche como gallina es a huevo\n"
     ]
    }
   ],
   "source": [
    "analogies(\"vaca\", \"leche\", \"huevo\")"
   ]
  },
  {
   "cell_type": "code",
   "execution_count": 8,
   "id": "29d018b8",
   "metadata": {},
   "outputs": [],
   "source": [
    "def nearby(v):\n",
    "    neighbor = vectors.most_similar(positive=[v])\n",
    "    print(f\"vecinos de: {v}\")\n",
    "    for word, score in neighbor:\n",
    "        print(\"\\t%s\" % word)"
   ]
  },
  {
   "cell_type": "code",
   "execution_count": 9,
   "id": "32a80245",
   "metadata": {},
   "outputs": [
    {
     "name": "stdout",
     "output_type": "stream",
     "text": [
      "vecinos de: rey\n",
      "\tmonarca\n",
      "\treyes\n",
      "\treino\n",
      "\tpríncipe\n",
      "\treina\n",
      "\tHarthacnut\n",
      "\tRagnald\n",
      "\tSverkersson\n",
      "\tregente\n",
      "\tHardeknut\n"
     ]
    }
   ],
   "source": [
    "nearby(\"rey\")"
   ]
  },
  {
   "cell_type": "code",
   "execution_count": 10,
   "id": "04b87eb3",
   "metadata": {},
   "outputs": [
    {
     "name": "stdout",
     "output_type": "stream",
     "text": [
      "vecinos de: Colombia\n",
      "\tEcuador\n",
      "\tBogotá\n",
      "\tVenezuela\n",
      "\tcolombiano\n",
      "\tPerú\n",
      "\tMedellín\n",
      "\tPanamá\n",
      "\tBolivia\n",
      "\tcolombiana\n",
      "\tBarranquilla\n"
     ]
    }
   ],
   "source": [
    "nearby(\"Colombia\")"
   ]
  },
  {
   "cell_type": "code",
   "execution_count": 14,
   "id": "6220ee95",
   "metadata": {},
   "outputs": [
    {
     "name": "stdout",
     "output_type": "stream",
     "text": [
      "vecinos de: gallina\n",
      "\tpollo\n",
      "\tpavo\n",
      "\tchancho\n",
      "\tponedora\n",
      "\tchompipe\n",
      "\thuevo\n",
      "\tachuras\n",
      "\tcarapulcra\n",
      "\tpernil\n",
      "\tcabro\n"
     ]
    }
   ],
   "source": [
    "nearby(\"gallina\")"
   ]
  },
  {
   "cell_type": "code",
   "execution_count": 12,
   "id": "dc3418ec",
   "metadata": {},
   "outputs": [
    {
     "name": "stdout",
     "output_type": "stream",
     "text": [
      "vecinos de: carnívoro\n",
      "\therbívoro\n",
      "\tmamífero\n",
      "\treptil\n",
      "\tinsectívoro\n",
      "\tcarnívoros\n",
      "\tomnívoro\n",
      "\tsemiacuático\n",
      "\tpiscívoro\n",
      "\tmarsupial\n",
      "\tmustélido\n"
     ]
    }
   ],
   "source": [
    "nearby(\"carnívoro\")"
   ]
  }
 ],
 "metadata": {
  "kernelspec": {
   "display_name": "nlp",
   "language": "python",
   "name": "python3"
  },
  "language_info": {
   "codemirror_mode": {
    "name": "ipython",
    "version": 3
   },
   "file_extension": ".py",
   "mimetype": "text/x-python",
   "name": "python",
   "nbconvert_exporter": "python",
   "pygments_lexer": "ipython3",
   "version": "3.11.13"
  }
 },
 "nbformat": 4,
 "nbformat_minor": 5
}
