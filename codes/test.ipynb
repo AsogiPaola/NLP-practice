{
 "cells": [
  {
   "cell_type": "code",
   "execution_count": 5,
   "id": "d8ee7b44",
   "metadata": {},
   "outputs": [
    {
     "name": "stderr",
     "output_type": "stream",
     "text": [
      "[nltk_data] Downloading package stopwords to\n",
      "[nltk_data]     C:\\Users\\paola\\AppData\\Roaming\\nltk_data...\n",
      "[nltk_data]   Package stopwords is already up-to-date!\n"
     ]
    },
    {
     "data": {
      "text/plain": [
       "True"
      ]
     },
     "execution_count": 5,
     "metadata": {},
     "output_type": "execute_result"
    }
   ],
   "source": [
    "import nltk\n",
    "nltk.download(\"stopwords\")"
   ]
  },
  {
   "cell_type": "code",
   "execution_count": 8,
   "id": "5b26d517",
   "metadata": {},
   "outputs": [],
   "source": [
    "from nltk.corpus import stopwords\n",
    "from nltk.tokenize import word_tokenize"
   ]
  },
  {
   "cell_type": "code",
   "execution_count": 10,
   "id": "243a2221",
   "metadata": {},
   "outputs": [
    {
     "name": "stdout",
     "output_type": "stream",
     "text": [
      "{'fueseis', 'éramos', 'nosotros', 'estada', 'ellos', 'os', 'hubieran', 'nuestras', 'estas', 'en', 'ni', 'sus', 'estuvieran', 'otras', 'hubiese', 'todo', 'son', 'tengo', 'tuviesen', 'esos', 'estés', 'estarán', 'del', 'estaba', 'tuvierais', 'hubisteis', 'estuvisteis', 'sentidas', 'tendréis', 'no', 'tengáis', 'suya', 'estuviéramos', 'habías', 'hubiesen', 'tuyas', 'has', 'tenía', 'estuvieses', 'ti', 'tuyos', 'habíamos', 'serás', 'tuvieran', 'seremos', 'tendríamos', 'tendremos', 'algo', 'estarás', 'tuviera', 'habremos', 'nuestra', 'fueses', 'hemos', 'antes', 'será', 'sin', 'estarías', 'hubiste', 'con', 'estamos', 'estaría', 'que', 'esto', 'también', 'tendrás', 'tenemos', 'hubieron', 'estuvieseis', 'ha', 'tuvieseis', 'habré', 'vuestro', 'tuvieses', 'habíais', 'les', 'tengamos', 'ante', 'lo', 'estuve', 'tuvimos', 'habido', 'tus', 'estuviste', 'sentidos', 'tuve', 'fueras', 'fueron', 'más', 'estuvieras', 'hubieses', 'estéis', 'es', 'las', 'nuestro', 'algunos', 'tuyo', 'estabas', 'estarían', 'habrá', 'hubiésemos', 'porque', 'al', 'suyo', 'hayáis', 'siente', 'teníamos', 'está', 'fue', 'estad', 'estuvo', 'tened', 'habrás', 'estuviera', 'vuestras', 'tendría', 'habríais', 'haya', 'nuestros', 'contra', 'tuya', 'sintiendo', 'seas', 'tendríais', 'estuviese', 'un', 'estaré', 'serán', 'hubo', 'los', 'tuviste', 'tuviésemos', 'era', 'tienes', 'y', 'había', 'estadas', 'habréis', 'poco', 'mía', 'suyas', 'teníais', 'habidas', 'ellas', 'tienen', 'seríais', 'esta', 'durante', 'él', 'eran', 'hube', 'tiene', 'vuestra', 'habrían', 'estará', 'tengas', 'habiendo', 'fuiste', 'mis', 'para', 'estábamos', 'vuestros', 'de', 'habrán', 'muchos', 'hubiéramos', 'soy', 'tendrá', 'tendrías', 'esas', 'algunas', 'sea', 'fueran', 'sentido', 'tendrían', 'fui', 'tu', 'ya', 'vosotros', 'o', 'tenidos', 'habían', 'estáis', 'e', 'teniendo', 'una', 'me', 'estar', 'el', 'tanto', 'mucho', 'cuando', 'mías', 'hubimos', 'hayan', 'estaban', 'esté', 'tendrán', 'fuisteis', 'donde', 'pero', 'como', 'habrías', 'estando', 'están', 'he', 'fuerais', 'nosotras', 'ella', 'todos', 'fuésemos', 'seríamos', 'estén', 'estaremos', 'sería', 'hay', 'otra', 'sobre', 'estabais', 'estuvimos', 'nos', 'sí', 'se', 'estuvierais', 'eso', 'estaréis', 'fuéramos', 'tuviese', 'entre', 'otro', 'tuvieron', 'hayamos', 'seré', 'muy', 'habría', 'nada', 'te', 'estás', 'serías', 'fuese', 'seamos', 'somos', 'uno', 'tuviéramos', 'míos', 'a', 'fuera', 'eras', 'estuvieron', 'estuviésemos', 'otros', 'hubiera', 'tenéis', 'sean', 'tuvisteis', 'estos', 'tenían', 'habida', 'sentida', 'sentid', 'erais', 'tuvo', 'este', 'tenidas', 'tengan', 'hubieras', 'fuesen', 'estaríais', 'estuviesen', 'estado', 'tú', 'serían', 'le', 'estaríamos', 'tenido', 'unos', 'tenida', 'desde', 'estoy', 'yo', 'quienes', 'vosotras', 'hubieseis', 'mí', 'seréis', 'mi', 'ese', 'fuimos', 'seáis', 'cual', 'sois', 'tuvieras', 'quien', 'habríamos', 'hubierais', 'suyos', 'mío', 'hayas', 'esa', 'han', 'eres', 'la', 'estemos', 'estados', 'tendré', 'qué', 'hasta', 'habéis', 'su', 'tenga', 'habidos', 'por', 'tenías'}\n"
     ]
    }
   ],
   "source": [
    "stop_words = set(stopwords.words(\"spanish\"))\n",
    "print(stop_words)"
   ]
  },
  {
   "cell_type": "code",
   "execution_count": 15,
   "id": "e7cbfb7e",
   "metadata": {},
   "outputs": [
    {
     "name": "stdout",
     "output_type": "stream",
     "text": [
      "['el', 'gato', 'es', 'blanco', 'y', 'el', 'perro', 'azul']\n"
     ]
    }
   ],
   "source": [
    "texto = \"El gato es blanco y el perro azul\"\n",
    "texto = texto.lower()\n",
    "tokens = word_tokenize(texto)\n",
    "print(tokens)"
   ]
  },
  {
   "cell_type": "code",
   "execution_count": 16,
   "id": "6a8d3c8b",
   "metadata": {},
   "outputs": [
    {
     "name": "stdout",
     "output_type": "stream",
     "text": [
      "['gato', 'blanco', 'perro', 'azul']\n"
     ]
    }
   ],
   "source": [
    "texto_filtrado = [word for word in tokens if not word in stop_words]\n",
    "print(texto_filtrado)"
   ]
  },
  {
   "cell_type": "markdown",
   "id": "f6b9a8f0",
   "metadata": {},
   "source": [
    "STEMMING"
   ]
  },
  {
   "cell_type": "code",
   "execution_count": 17,
   "id": "8a9987b4",
   "metadata": {},
   "outputs": [
    {
     "name": "stderr",
     "output_type": "stream",
     "text": [
      "[nltk_data] Downloading package wordnet to\n",
      "[nltk_data]     C:\\Users\\paola\\AppData\\Roaming\\nltk_data...\n",
      "[nltk_data]   Package wordnet is already up-to-date!\n"
     ]
    },
    {
     "data": {
      "text/plain": [
       "True"
      ]
     },
     "execution_count": 17,
     "metadata": {},
     "output_type": "execute_result"
    }
   ],
   "source": [
    "nltk.download(\"wordnet\")"
   ]
  },
  {
   "cell_type": "code",
   "execution_count": 18,
   "id": "c347be60",
   "metadata": {},
   "outputs": [
    {
     "name": "stdout",
     "output_type": "stream",
     "text": [
      "camin\n",
      "camin\n",
      "camin\n"
     ]
    }
   ],
   "source": [
    "from nltk.stem import SnowballStemmer\n",
    "\n",
    "#crear el stemmer en español\n",
    "stemmer = SnowballStemmer(\"spanish\")\n",
    "#probarlo en la palabra \"caminar\"\n",
    "print(stemmer.stem(\"caminando\"))\n",
    "print(stemmer.stem(\"caminar\"))\n",
    "print(stemmer.stem(\"camino\"))"
   ]
  },
  {
   "cell_type": "markdown",
   "id": "4a96b311",
   "metadata": {},
   "source": [
    "LEMATIZACION"
   ]
  },
  {
   "cell_type": "code",
   "execution_count": 20,
   "id": "c25ecb40",
   "metadata": {},
   "outputs": [
    {
     "name": "stdout",
     "output_type": "stream",
     "text": [
      "\u001b[38;5;2m✔ Download and installation successful\u001b[0m\n",
      "You can now load the package via spacy.load('es_core_news_sm')\n"
     ]
    },
    {
     "name": "stderr",
     "output_type": "stream",
     "text": [
      "No se esperaba & en este momento.\n",
      "No se pudo analizar el valor especificado en una clave del Registro de ejecuci�n autom�tica.\n"
     ]
    }
   ],
   "source": [
    "!python -m spacy download es_core_news_sm -q"
   ]
  },
  {
   "cell_type": "code",
   "execution_count": null,
   "id": "bea1c910",
   "metadata": {},
   "outputs": [
    {
     "name": "stdout",
     "output_type": "stream",
     "text": [
      "caminar -> caminar\n",
      "caminando -> caminar\n",
      "caminó -> caminar\n",
      "camine -> camine\n"
     ]
    }
   ],
   "source": [
    "import spacy\n",
    "#cargar el modelo en español\n",
    "nlp= spacy.load(\"es_core_news_sm\")\n",
    "\n",
    "#crear un documento\n",
    "doc = nlp(\"caminar caminando caminó\")\n",
    "\n",
    "#imprimir el texto y el lema de cada token\n",
    "for token in doc:\n",
    "    print(token.text, \"->\", token.lemma_)"
   ]
  },
  {
   "cell_type": "code",
   "execution_count": null,
   "id": "d419d15e",
   "metadata": {},
   "outputs": [],
   "source": []
  }
 ],
 "metadata": {
  "kernelspec": {
   "display_name": "nlp",
   "language": "python",
   "name": "python3"
  },
  "language_info": {
   "codemirror_mode": {
    "name": "ipython",
    "version": 3
   },
   "file_extension": ".py",
   "mimetype": "text/x-python",
   "name": "python",
   "nbconvert_exporter": "python",
   "pygments_lexer": "ipython3",
   "version": "3.11.13"
  }
 },
 "nbformat": 4,
 "nbformat_minor": 5
}
